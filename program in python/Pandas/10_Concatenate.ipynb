{
 "cells": [
  {
   "cell_type": "code",
   "execution_count": 1,
   "metadata": {},
   "outputs": [],
   "source": [
    "import pandas as pd"
   ]
  },
  {
   "cell_type": "code",
   "execution_count": 2,
   "metadata": {},
   "outputs": [
    {
     "name": "stdout",
     "output_type": "stream",
     "text": [
      "  Emp Id   Names  Age\n",
      "0    E01     Ram   34\n",
      "1    E02   Shyam   56\n",
      "2    E03   Rahul   23\n",
      "3    E04  Vishal   44\n",
      "4    E05    Ravi   32\n",
      "  Emp Id  Salary\n",
      "0    E01   45000\n",
      "1    E02   34000\n",
      "2    E03   56000\n",
      "3    E04   30000\n",
      "4    E05   50000\n"
     ]
    }
   ],
   "source": [
    "data1 = {\"Emp Id\":[\"E01\",\"E02\",\"E03\",\"E04\",\"E05\"],\n",
    "         \"Names\":[\"Ram\",\"Shyam\",\"Rahul\",\"Vishal\",\"Ravi\"],\n",
    "         \"Age\":[34,56,23,44,32]}\n",
    "data2 = {\"Emp Id\":[\"E01\",\"E02\",\"E03\",\"E04\",\"E05\"],\n",
    "         \"Salary\":[45000,34000,56000,30000,50000]}\n",
    "\n",
    "df1 = pd.DataFrame(data1)\n",
    "df2 = pd.DataFrame(data2)\n",
    "print(df1)\n",
    "print(df2)"
   ]
  },
  {
   "cell_type": "code",
   "execution_count": 5,
   "metadata": {},
   "outputs": [
    {
     "name": "stdout",
     "output_type": "stream",
     "text": [
      "  Emp Id   Names  Age  Salary\n",
      "0    E01     Ram   34   45000\n",
      "1    E02   Shyam   56   34000\n",
      "2    E03   Rahul   23   56000\n",
      "3    E04  Vishal   44   30000\n",
      "4    E05    Ravi   32   50000\n"
     ]
    }
   ],
   "source": [
    "print(pd.merge(df1,df2, on=\"Emp Id\"))"
   ]
  },
  {
   "cell_type": "code",
   "execution_count": null,
   "metadata": {},
   "outputs": [],
   "source": []
  }
 ],
 "metadata": {
  "kernelspec": {
   "display_name": "Python 3",
   "language": "python",
   "name": "python3"
  },
  "language_info": {
   "codemirror_mode": {
    "name": "ipython",
    "version": 3
   },
   "file_extension": ".py",
   "mimetype": "text/x-python",
   "name": "python",
   "nbconvert_exporter": "python",
   "pygments_lexer": "ipython3",
   "version": "3.10.11"
  }
 },
 "nbformat": 4,
 "nbformat_minor": 2
}
