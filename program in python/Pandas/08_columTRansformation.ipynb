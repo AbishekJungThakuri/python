{
 "cells": [
  {
   "cell_type": "code",
   "execution_count": 4,
   "metadata": {},
   "outputs": [],
   "source": [
    "import pandas as pd"
   ]
  },
  {
   "cell_type": "code",
   "execution_count": 5,
   "metadata": {},
   "outputs": [
    {
     "name": "stdout",
     "output_type": "stream",
     "text": [
      "    Duration          Date  Pulse  Maxpulse  Calories MaxMin\n",
      "0         60  '2020/12/01'    110       130     409.1    Max\n",
      "1         60  '2020/12/02'    117       145     479.0    Max\n",
      "2         60  '2020/12/03'    103       135     340.0    Max\n",
      "3         45  '2020/12/04'    109       175     282.4    Max\n",
      "4         45  '2020/12/05'    217       118     249.0    Min\n",
      "5         60  '2020/12/06'    102       127     300.0    Max\n",
      "6         60  '2020/12/07'    110       136     374.0    Max\n",
      "7        450  '2020/12/08'    104       134     253.3    Max\n",
      "8         30  '2020/12/09'    109       133     195.1    Min\n",
      "9         60  '2020/12/10'     98       124     269.0    Max\n",
      "10        60  '2020/12/11'    103       147     329.3    Max\n",
      "11        60  '2020/12/12'    100       120     250.7    Max\n",
      "12        60  '2020/12/12'    100       120     250.7    Max\n",
      "13        60  '2020/12/13'    106       128     345.3    Max\n",
      "14        60  '2020/12/14'    104       132     379.3    Max\n"
     ]
    }
   ],
   "source": [
    "data = pd.read_csv('data1.csv')\n",
    "data.loc[(data[\"Calories\"] < 250),\"MaxMin\"] = \"Min\"\n",
    "data.loc[(data[\"Calories\"] > 250),\"MaxMin\"] = \"Max\"\n",
    "print(data.head(15))"
   ]
  },
  {
   "cell_type": "code",
   "execution_count": 6,
   "metadata": {},
   "outputs": [
    {
     "name": "stdout",
     "output_type": "stream",
     "text": [
      "    Duration          Date  Pulse  Maxpulse  Calories MaxMin  20% of Calories\n",
      "0         60  '2020/12/01'    110       130     409.1    Max            81.82\n",
      "1         60  '2020/12/02'    117       145     479.0    Max            95.80\n",
      "2         60  '2020/12/03'    103       135     340.0    Max            68.00\n",
      "3         45  '2020/12/04'    109       175     282.4    Max            56.48\n",
      "4         45  '2020/12/05'    217       118     249.0    Min            49.80\n",
      "5         60  '2020/12/06'    102       127     300.0    Max            60.00\n",
      "6         60  '2020/12/07'    110       136     374.0    Max            74.80\n",
      "7        450  '2020/12/08'    104       134     253.3    Max            50.66\n",
      "8         30  '2020/12/09'    109       133     195.1    Min            39.02\n",
      "9         60  '2020/12/10'     98       124     269.0    Max            53.80\n",
      "10        60  '2020/12/11'    103       147     329.3    Max            65.86\n",
      "11        60  '2020/12/12'    100       120     250.7    Max            50.14\n",
      "12        60  '2020/12/12'    100       120     250.7    Max            50.14\n",
      "13        60  '2020/12/13'    106       128     345.3    Max            69.06\n",
      "14        60  '2020/12/14'    104       132     379.3    Max            75.86\n",
      "15        60  '2020/12/15'     98       123     275.0    Max            55.00\n",
      "16        60  '2020/12/16'     98       120     215.2    Min            43.04\n",
      "17        60  '2020/12/17'    100       120     300.0    Max            60.00\n",
      "18        45  '2020/12/18'     90       112       NaN    NaN              NaN\n",
      "19        60  '2020/12/19'    103       123     323.0    Max            64.60\n",
      "20        45  '2020/12/20'     97       125     243.0    Min            48.60\n",
      "21        60  '2020/12/21'    108       131     364.2    Max            72.84\n",
      "22        45           NaN    100       119     282.0    Max            56.40\n",
      "23        60  '2020/12/23'    130       101     300.0    Max            60.00\n",
      "24        45  '2020/12/24'    105       132     246.0    Min            49.20\n",
      "25        60  '2020/12/25'    102       126     334.5    Max            66.90\n",
      "26        60    2020/12/26    100       120     250.0    NaN            50.00\n",
      "27        60  '2020/12/27'     92       118     241.0    Min            48.20\n",
      "28        60  '2020/12/28'    103       132       NaN    NaN              NaN\n",
      "29        60  '2020/12/29'    100       132     280.0    Max            56.00\n",
      "30        60  '2020/12/30'    102       129     380.3    Max            76.06\n",
      "31        60  '2020/12/31'     92       115     243.0    Min            48.60\n"
     ]
    }
   ],
   "source": [
    "data[\"20% of Calories\"] = (data[\"Calories\"]/100)*20\n",
    "print(data)"
   ]
  },
  {
   "cell_type": "code",
   "execution_count": 8,
   "metadata": {},
   "outputs": [
    {
     "name": "stdout",
     "output_type": "stream",
     "text": [
      "     Months Short_months\n",
      "0   January          Jan\n",
      "1  Feburary          Feb\n",
      "2     March          Mar\n",
      "3     April          Apr\n"
     ]
    }
   ],
   "source": [
    "data = {\n",
    "    \"Months\": [\"January\",\"Feburary\",\"March\",\"April\"]\n",
    "}\n",
    "\n",
    "a = pd.DataFrame(data)\n",
    "\n",
    "def extract(value):\n",
    "    return value[0:3]\n",
    "\n",
    "a[\"Short_months\"] = a[\"Months\"].map(extract)\n",
    "\n",
    "print(a)"
   ]
  },
  {
   "cell_type": "code",
   "execution_count": null,
   "metadata": {},
   "outputs": [],
   "source": []
  }
 ],
 "metadata": {
  "kernelspec": {
   "display_name": "Python 3",
   "language": "python",
   "name": "python3"
  },
  "language_info": {
   "codemirror_mode": {
    "name": "ipython",
    "version": 3
   },
   "file_extension": ".py",
   "mimetype": "text/x-python",
   "name": "python",
   "nbconvert_exporter": "python",
   "pygments_lexer": "ipython3",
   "version": "3.10.11"
  }
 },
 "nbformat": 4,
 "nbformat_minor": 2
}
